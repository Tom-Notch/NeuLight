{
 "cells": [
  {
   "cell_type": "code",
   "execution_count": 1,
   "metadata": {},
   "outputs": [
    {
     "name": "stdout",
     "output_type": "stream",
     "text": [
      "Jupyter environment detected. Enabling Open3D WebVisualizer.\n",
      "[Open3D INFO] WebRTC GUI backend enabled.\n",
      "[Open3D INFO] WebRTCWindowSystem: HTTP handshake server disabled.\n"
     ]
    }
   ],
   "source": [
    "import os\n",
    "\n",
    "import torch\n",
    "import numpy as np\n",
    "from matplotlib import pyplot as plt\n",
    "from torch.utils.data import DataLoader\n",
    "\n",
    "from neulight.dataset.free_viewpoint import FreeViewpointDataset\n",
    "from neulight.utils.ray_sampler import RaySampler\n",
    "from neulight.visualization.visualize_rays import visualize_rays\n",
    "from neulight.visualization.visualize_points import visualize_points\n",
    "\n",
    "os.environ[\"CUDA_VISIBLE_DEVICES\"] = \"0\""
   ]
  },
  {
   "cell_type": "code",
   "execution_count": 2,
   "metadata": {},
   "outputs": [],
   "source": [
    "dtype = torch.float32\n",
    "device = torch.cuda.current_device()\n",
    "batch_size = 4\n",
    "num_workers = 2\n",
    "free_viewpoint_scene_path = \"../data/neulight/Salon2\"\n",
    "num_rays_per_image = 600000  # for visualization purpose"
   ]
  },
  {
   "cell_type": "code",
   "execution_count": 3,
   "metadata": {},
   "outputs": [],
   "source": [
    "free_viewpoint_train_dataset = FreeViewpointDataset(\n",
    "    scene_path=free_viewpoint_scene_path,\n",
    "    dataset_type=\"train\",\n",
    "    num_rays_per_image=num_rays_per_image,\n",
    ")\n",
    "free_viewpoint_train_dataloader = DataLoader(\n",
    "    free_viewpoint_train_dataset,\n",
    "    batch_size=batch_size,\n",
    "    shuffle=False,\n",
    "    collate_fn=free_viewpoint_train_dataset.collate_fn,\n",
    "    num_workers=num_workers,\n",
    "    persistent_workers=True,\n",
    ")"
   ]
  },
  {
   "cell_type": "code",
   "execution_count": 4,
   "metadata": {},
   "outputs": [],
   "source": [
    "free_viewpoint_test_dataset = FreeViewpointDataset(\n",
    "    scene_path=free_viewpoint_scene_path,\n",
    "    dataset_type=\"test\",\n",
    ")\n",
    "free_viewpoint_test_dataloader = DataLoader(\n",
    "    free_viewpoint_test_dataset,\n",
    "    batch_size=batch_size,\n",
    "    shuffle=False,\n",
    "    collate_fn=free_viewpoint_test_dataset.collate_fn,\n",
    "    num_workers=num_workers,\n",
    "    persistent_workers=True,\n",
    ")"
   ]
  },
  {
   "cell_type": "code",
   "execution_count": 5,
   "metadata": {},
   "outputs": [],
   "source": [
    "train_batch = free_viewpoint_train_dataset.move_batch_to(\n",
    "    next(iter(free_viewpoint_train_dataloader)),\n",
    "    device=device,\n",
    "    dtype=dtype,\n",
    ")"
   ]
  },
  {
   "cell_type": "code",
   "execution_count": 6,
   "metadata": {},
   "outputs": [],
   "source": [
    "test_batch = free_viewpoint_test_dataset.move_batch_to(\n",
    "    next(iter(free_viewpoint_test_dataloader)),\n",
    "    device=device,\n",
    "    dtype=dtype,\n",
    ")"
   ]
  },
  {
   "cell_type": "code",
   "execution_count": 7,
   "metadata": {},
   "outputs": [],
   "source": [
    "vis = free_viewpoint_test_dataset.visualize_batch(test_batch)"
   ]
  },
  {
   "cell_type": "code",
   "execution_count": 12,
   "metadata": {},
   "outputs": [],
   "source": [
    "visualize_rays(\n",
    "    train_batch[\"inputs\"][\"rays\"],\n",
    "    train_batch[\"labels\"][\"colors\"],\n",
    "    interactive=True,\n",
    ")"
   ]
  },
  {
   "cell_type": "code",
   "execution_count": 9,
   "metadata": {},
   "outputs": [],
   "source": [
    "ray_sampler = RaySampler(num_points_per_ray=16, max_distance=20.0, perturb=True).to(\n",
    "    device\n",
    ")"
   ]
  },
  {
   "cell_type": "code",
   "execution_count": 10,
   "metadata": {},
   "outputs": [],
   "source": [
    "sampled_points = ray_sampler(train_batch[\"inputs\"][\"rays\"])"
   ]
  },
  {
   "cell_type": "code",
   "execution_count": 11,
   "metadata": {},
   "outputs": [],
   "source": [
    "visualize_points(\n",
    "    sampled_points,\n",
    "    train_batch[\"labels\"][\"colors\"]\n",
    "    .unsqueeze(-2)\n",
    "    .expand(-1, -1, sampled_points.shape[-2], -1),\n",
    "    interactive=True,\n",
    ")"
   ]
  }
 ],
 "metadata": {
  "kernelspec": {
   "display_name": "neulight",
   "language": "python",
   "name": "python3"
  },
  "language_info": {
   "codemirror_mode": {
    "name": "ipython",
    "version": 3
   },
   "file_extension": ".py",
   "mimetype": "text/x-python",
   "name": "python",
   "nbconvert_exporter": "python",
   "pygments_lexer": "ipython3",
   "version": "3.10.17"
  }
 },
 "nbformat": 4,
 "nbformat_minor": 2
}
