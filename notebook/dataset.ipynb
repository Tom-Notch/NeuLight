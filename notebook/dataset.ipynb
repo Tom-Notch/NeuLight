{
 "cells": [
  {
   "cell_type": "code",
   "execution_count": 1,
   "metadata": {},
   "outputs": [],
   "source": [
    "import os\n",
    "import torch\n",
    "import numpy as np\n",
    "from matplotlib import pyplot as plt\n",
    "from neulight.dataset.free_viewpoint import FreeViewpointDataset\n",
    "from torch.utils.data import DataLoader\n",
    "\n",
    "os.environ[\"CUDA_VISIBLE_DEVICES\"] = \"0\""
   ]
  },
  {
   "cell_type": "code",
   "execution_count": 2,
   "metadata": {},
   "outputs": [],
   "source": [
    "dtype = torch.float32\n",
    "device = torch.cuda.current_device()\n",
    "batch_size = 4\n",
    "num_workers = 2\n",
    "free_viewpoint_scene_path = \"../data/neulight/Salon2\""
   ]
  },
  {
   "cell_type": "code",
   "execution_count": 3,
   "metadata": {},
   "outputs": [],
   "source": [
    "free_viewpoint_train_dataset = FreeViewpointDataset(\n",
    "    scene_path=free_viewpoint_scene_path,\n",
    "    dataset_type=\"train\",\n",
    ")\n",
    "free_viewpoint_train_dataloader = DataLoader(\n",
    "    free_viewpoint_train_dataset,\n",
    "    batch_size=batch_size,\n",
    "    shuffle=False,\n",
    "    collate_fn=free_viewpoint_train_dataset.collate_fn,\n",
    "    num_workers=num_workers,\n",
    "    persistent_workers=True,\n",
    ")"
   ]
  },
  {
   "cell_type": "code",
   "execution_count": 4,
   "metadata": {},
   "outputs": [],
   "source": [
    "free_viewpoint_test_dataset = FreeViewpointDataset(\n",
    "    scene_path=free_viewpoint_scene_path,\n",
    "    dataset_type=\"test\",\n",
    ")\n",
    "free_viewpoint_test_dataloader = DataLoader(\n",
    "    free_viewpoint_test_dataset,\n",
    "    batch_size=batch_size,\n",
    "    shuffle=False,\n",
    "    collate_fn=free_viewpoint_test_dataset.collate_fn,\n",
    "    num_workers=num_workers,\n",
    "    persistent_workers=True,\n",
    ")"
   ]
  },
  {
   "cell_type": "code",
   "execution_count": 5,
   "metadata": {},
   "outputs": [],
   "source": [
    "train_batch = free_viewpoint_train_dataset.move_batch_to(\n",
    "    next(iter(free_viewpoint_train_dataloader)),\n",
    "    device=device,\n",
    "    dtype=dtype,\n",
    ")"
   ]
  },
  {
   "cell_type": "code",
   "execution_count": 12,
   "metadata": {},
   "outputs": [
    {
     "data": {
      "text/plain": [
       "tensor([[[0.4039, 0.2824, 0.1686],\n",
       "         [0.6549, 0.5137, 0.3804],\n",
       "         [0.6902, 0.5451, 0.4314],\n",
       "         ...,\n",
       "         [0.9490, 0.7333, 0.4784],\n",
       "         [0.1725, 0.1451, 0.1059],\n",
       "         [0.5647, 0.3765, 0.2196]],\n",
       "\n",
       "        [[0.4039, 0.3059, 0.1843],\n",
       "         [0.6392, 0.4196, 0.2275],\n",
       "         [0.4667, 0.3569, 0.2000],\n",
       "         ...,\n",
       "         [0.5412, 0.4157, 0.2314],\n",
       "         [0.3804, 0.3255, 0.2196],\n",
       "         [0.2980, 0.2275, 0.1804]],\n",
       "\n",
       "        [[0.2627, 0.1608, 0.0941],\n",
       "         [0.9922, 0.9490, 0.6000],\n",
       "         [0.5059, 0.3922, 0.2353],\n",
       "         ...,\n",
       "         [0.6118, 0.4118, 0.2275],\n",
       "         [1.0000, 1.0000, 0.9647],\n",
       "         [0.6275, 0.4000, 0.2118]],\n",
       "\n",
       "        [[0.5490, 0.4196, 0.2510],\n",
       "         [0.1608, 0.1137, 0.0588],\n",
       "         [0.5922, 0.4039, 0.2235],\n",
       "         ...,\n",
       "         [0.7216, 0.5725, 0.3961],\n",
       "         [0.2902, 0.2235, 0.1529],\n",
       "         [0.2471, 0.1765, 0.1216]]], device='cuda:0')"
      ]
     },
     "execution_count": 12,
     "metadata": {},
     "output_type": "execute_result"
    }
   ],
   "source": [
    "train_batch[\"labels\"][\"colors\"]"
   ]
  },
  {
   "cell_type": "code",
   "execution_count": 6,
   "metadata": {},
   "outputs": [],
   "source": [
    "test_batch = free_viewpoint_test_dataset.move_batch_to(\n",
    "    next(iter(free_viewpoint_test_dataloader)),\n",
    "    device=device,\n",
    "    dtype=dtype,\n",
    ")"
   ]
  },
  {
   "cell_type": "code",
   "execution_count": 7,
   "metadata": {},
   "outputs": [],
   "source": [
    "vis = free_viewpoint_test_dataset.visualize_batch(test_batch)"
   ]
  }
 ],
 "metadata": {
  "kernelspec": {
   "display_name": "neulight",
   "language": "python",
   "name": "python3"
  },
  "language_info": {
   "codemirror_mode": {
    "name": "ipython",
    "version": 3
   },
   "file_extension": ".py",
   "mimetype": "text/x-python",
   "name": "python",
   "nbconvert_exporter": "python",
   "pygments_lexer": "ipython3",
   "version": "3.10.17"
  }
 },
 "nbformat": 4,
 "nbformat_minor": 2
}
